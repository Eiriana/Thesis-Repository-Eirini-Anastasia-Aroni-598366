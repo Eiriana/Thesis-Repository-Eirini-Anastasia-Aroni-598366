{
 "cells": [
  {
   "cell_type": "markdown",
   "metadata": {
    "cell_id": "fae7188d18f54343840b9a91908f9423",
    "deepnote_cell_type": "text-cell-h1",
    "formattedRanges": []
   },
   "source": [
    "# Compiling Consumption Data"
   ]
  },
  {
   "cell_type": "code",
   "execution_count": 1,
   "metadata": {
    "cell_id": "fb4f1a138cc4451f9511fa7ba5ff29d4",
    "deepnote_cell_type": "code",
    "deepnote_to_be_reexecuted": false,
    "execution_millis": 2,
    "execution_start": 1686474499345,
    "source_hash": "9b82ee11"
   },
   "outputs": [],
   "source": [
    "import pandas as pd"
   ]
  },
  {
   "cell_type": "code",
   "execution_count": 2,
   "metadata": {
    "cell_id": "dd0782acfbb2414f9ebbbfee62c12361",
    "deepnote_cell_type": "code",
    "deepnote_to_be_reexecuted": false,
    "execution_millis": 232529,
    "execution_start": 1686474500134,
    "source_hash": "893dbf62"
   },
   "outputs": [],
   "source": [
    "# Load all consumptio data before intervention (This runs for ages)\n",
    "\n",
    "df1 = pd.read_excel('A02A-Transcript_Status_(short_report)-File1.xlsx', header=14)\n",
    "df2 = pd.read_excel('A02A-Transcript_Status_(short_report)-File2.xlsx', header=14)\n",
    "df3 = pd.read_excel('A02A-Transcript_Status_(short_report)-File3.xlsx', header=14)\n",
    "df4 = pd.read_excel('A02A-Transcript_Status_(short_report)-File4.xlsx', header=14)\n",
    "df5 = pd.read_excel('A02A-Transcript_Status_(short_report)-File5.xlsx', header=14)"
   ]
  },
  {
   "cell_type": "code",
   "execution_count": 3,
   "metadata": {
    "cell_id": "eef0245c5c084cd38c64d5f957034a83",
    "deepnote_cell_type": "code",
    "deepnote_to_be_reexecuted": false,
    "execution_millis": 1324,
    "execution_start": 1686474737983,
    "source_hash": "c26656c1"
   },
   "outputs": [],
   "source": [
    "#load data after intervention\n",
    "consumption_new_metadata = pd.read_excel('Consumption_Data_After.xlsx', header=14)"
   ]
  },
  {
   "cell_type": "code",
   "execution_count": 4,
   "metadata": {
    "cell_id": "d540db2d1e8d49ba8a4ca95bd828c1a7",
    "deepnote_cell_type": "code",
    "deepnote_to_be_reexecuted": false,
    "execution_millis": 1926,
    "execution_start": 1686474741728,
    "source_hash": "2f39c807"
   },
   "outputs": [],
   "source": [
    "#concat the datasets\n",
    "all_consumption = pd.concat([df1, df2, df3, df4, df5, consumption_new_metadata], axis=0)"
   ]
  },
  {
   "cell_type": "code",
   "execution_count": 5,
   "metadata": {
    "cell_id": "2acb7f743af1452489e573b0ec49fc98",
    "deepnote_cell_type": "code",
    "deepnote_to_be_reexecuted": false,
    "execution_millis": 9782,
    "execution_start": 1686474744079,
    "source_hash": "c9caa24d"
   },
   "outputs": [],
   "source": [
    "#get the date\n",
    "def choose_date(row):\n",
    "    if 'completed' in row['Transcript Status'].lower():\n",
    "       return row['Transcript Completed Date']\n",
    "    else:\n",
    "      return row['Transcript Assigned Date']\n",
    "\n",
    "all_consumption['date'] = all_consumption.apply(choose_date, axis=1).dt.date"
   ]
  },
  {
   "cell_type": "code",
   "execution_count": 6,
   "metadata": {
    "cell_id": "ebb5272f8235452ca6a94d80e5bae9e5",
    "deepnote_cell_type": "code",
    "deepnote_to_be_reexecuted": false,
    "execution_millis": 254,
    "execution_start": 1686474754142,
    "source_hash": "b4aca756"
   },
   "outputs": [],
   "source": [
    "consumption_per_LO = all_consumption.pivot_table(index=['Training Object ID', 'date'], columns='Transcript Status', values='User ID', aggfunc='count').reset_index().fillna(0)"
   ]
  },
  {
   "cell_type": "code",
   "execution_count": 7,
   "metadata": {
    "cell_id": "2d6c3e5ac1fc47d3aa49cc8a8e2fef81",
    "deepnote_cell_type": "code",
    "deepnote_to_be_reexecuted": false,
    "execution_millis": 94,
    "execution_start": 1686474756628,
    "source_hash": "6893e1a7"
   },
   "outputs": [],
   "source": [
    "# drop duplicates\n",
    "type_and_providers = all_consumption[['Training Object ID', 'Training Type', 'Division']].drop_duplicates()"
   ]
  },
  {
   "cell_type": "code",
   "execution_count": 8,
   "metadata": {
    "cell_id": "b69d2d23e22842b088cdcf6d9722f65a",
    "deepnote_cell_type": "code",
    "deepnote_to_be_reexecuted": false,
    "execution_millis": 29,
    "execution_start": 1686474759116,
    "source_hash": "a226edd2"
   },
   "outputs": [],
   "source": [
    "#get consumption per learning object\n",
    "consumption_per_LO['Registrations'] = consumption_per_LO['Registered']\n",
    "consumption_per_LO['Completions'] = consumption_per_LO['Completed'] + consumption_per_LO['Completed (Equivalent)']\n",
    "consumption_df = consumption_per_LO[['Training Object ID', 'date', 'Registrations', 'Completions']]"
   ]
  },
  {
   "cell_type": "code",
   "execution_count": 9,
   "metadata": {
    "cell_id": "b51f2d718adb442092fe6d6c7b1a3b9b",
    "deepnote_cell_type": "code",
    "deepnote_to_be_reexecuted": false,
    "execution_millis": 2,
    "execution_start": 1686474766002,
    "source_hash": "fd3305a7"
   },
   "outputs": [],
   "source": [
    "# consumption_df.to_csv('consumption_df.csv')"
   ]
  },
  {
   "cell_type": "code",
   "execution_count": 10,
   "metadata": {
    "cell_id": "f854f753a7f24d8090d36eb0fbdd470c",
    "deepnote_cell_type": "code",
    "deepnote_to_be_reexecuted": false,
    "execution_millis": 16,
    "execution_start": 1686474769136,
    "source_hash": "3379bdfd"
   },
   "outputs": [
    {
     "name": "stderr",
     "output_type": "stream",
     "text": [
      "/tmp/ipykernel_98/417411795.py:1: SettingWithCopyWarning: \n",
      "A value is trying to be set on a copy of a slice from a DataFrame.\n",
      "Try using .loc[row_indexer,col_indexer] = value instead\n",
      "\n",
      "See the caveats in the documentation: https://pandas.pydata.org/pandas-docs/stable/user_guide/indexing.html#returning-a-view-versus-a-copy\n",
      "  consumption_df['date']= pd.to_datetime(consumption_df.date)\n"
     ]
    },
    {
     "data": {
      "text/plain": [
       "dtype('<M8[ns]')"
      ]
     },
     "execution_count": 10,
     "metadata": {},
     "output_type": "execute_result"
    }
   ],
   "source": [
    "consumption_df['date']= pd.to_datetime(consumption_df.date)\n",
    "consumption_df['date'].dtype"
   ]
  },
  {
   "cell_type": "markdown",
   "metadata": {
    "cell_id": "836d2cdb0f2a49d28288429a39415f29",
    "deepnote_cell_type": "text-cell-h1",
    "formattedRanges": []
   },
   "source": [
    "# labelled data"
   ]
  },
  {
   "cell_type": "markdown",
   "metadata": {
    "cell_id": "25468e584b84473eaba6f6c7f4636a31",
    "deepnote_cell_type": "text-cell-p",
    "formattedRanges": []
   },
   "source": [
    "Read data"
   ]
  },
  {
   "cell_type": "code",
   "execution_count": 11,
   "metadata": {
    "cell_id": "ee912e43498742d18cabf25df3034362",
    "deepnote_cell_type": "code",
    "deepnote_to_be_reexecuted": false,
    "execution_millis": 129,
    "execution_start": 1686474774952,
    "source_hash": "18414ed8"
   },
   "outputs": [],
   "source": [
    "# import libraries and data for data engineering\n",
    "import pandas as pd\n",
    "import itertools\n",
    "consumption_df = pd.read_csv('consumption_df.csv', index_col='Unnamed: 0').drop(columns='Completions')\n",
    "labelled_data = pd.read_csv('treatment_control.csv')[['NVS_Training_Object_ID', 'initial_desc_length', 'filled_in']].rename(columns={'filled_in':'in_test_group'})\n",
    "LO_meta_raw = pd.read_csv('clean_subset.csv')[['NVS_Training_Object_ID', 'NVS_Course_Training_Type', 'NVS_Course_Training_Provider']]"
   ]
  },
  {
   "cell_type": "markdown",
   "metadata": {
    "cell_id": "225e6165027046bb8dbc95d04a690067",
    "deepnote_cell_type": "text-cell-p",
    "formattedRanges": []
   },
   "source": [
    "Manipulate data"
   ]
  },
  {
   "cell_type": "code",
   "execution_count": 12,
   "metadata": {
    "cell_id": "2c3ba032dc5145dd844b9ec36173ce97",
    "deepnote_cell_type": "code",
    "deepnote_to_be_reexecuted": false,
    "execution_millis": 35,
    "execution_start": 1686474777944,
    "source_hash": "5f21ad70"
   },
   "outputs": [],
   "source": [
    "# get initial LO popularity\n",
    "popularity_df = consumption_df[\n",
    "    consumption_df['date']<='2023-05-15'\n",
    "    ].groupby('Training Object ID').sum().reset_index().rename(columns={'Registrations':'popularity'})\n",
    "\n",
    "# one dataframe with all metadata\n",
    "LO_metadata = labelled_data.merge(LO_meta_raw)\n",
    "\n",
    "LO_metadata = LO_metadata.merge(\n",
    "    popularity_df, \n",
    "    left_on='NVS_Training_Object_ID', \n",
    "    right_on='Training Object ID', \n",
    "    how='left').drop(columns=['Training Object ID'])\n",
    "    \n",
    "LO_metadata['popularity'] = LO_metadata['popularity'].fillna(0)\n",
    "\n",
    "LO_metadata['popularity_Bins'] = pd.cut(\n",
    "    LO_metadata['popularity'], \n",
    "    bins=[0, 1, 10, 50, 5000], \n",
    "    include_lowest=True,\n",
    "    right=False, \n",
    "    labels = ['0', '1-10', '11-50', '50+'])"
   ]
  },
  {
   "cell_type": "code",
   "execution_count": 13,
   "metadata": {
    "cell_id": "5056b489276e454b90f08246f401e328",
    "deepnote_cell_type": "code",
    "deepnote_to_be_reexecuted": false,
    "execution_millis": 22196,
    "execution_start": 1686474781045,
    "source_hash": "758e9dda"
   },
   "outputs": [],
   "source": [
    "# We need data for every LO, for every period in our data. Here we first create a placeholder, then populate it w/ data\n",
    "\n",
    "# create placeholder\n",
    "ref_dataframe = pd.DataFrame(\n",
    "    data=list(itertools.product(\n",
    "        pd.date_range(\n",
    "            pd.to_datetime('2022-04-01'),\n",
    "            pd.to_datetime('2023-05-31')\n",
    "            ),\n",
    "        labelled_data['NVS_Training_Object_ID'].unique())),\n",
    "    columns = ['date', 'NVS_Training_Object_ID'])\n",
    "\n",
    "# ensure data types\n",
    "ref_dataframe['date'] = ref_dataframe['date'].astype(str)\n",
    "consumption_df['date'] = consumption_df['date'].astype(str)\n",
    "\n",
    "# and consumption data into placeholder\n",
    "ref_dataframe = ref_dataframe.merge(\n",
    "    consumption_df, \n",
    "    how='left', \n",
    "    left_on=['NVS_Training_Object_ID', 'date'], \n",
    "    right_on=['Training Object ID', 'date']\n",
    ").drop(columns='Training Object ID')\n",
    "\n",
    "# where we didn't match, fill nas with zero\n",
    "ref_dataframe['Registrations'] = ref_dataframe['Registrations'].fillna(0)\n",
    "\n",
    "# set datetime index for resampling\n",
    "ref_dataframe = ref_dataframe.set_index('date')\n",
    "ref_dataframe.index = pd.to_datetime(ref_dataframe.index)\n",
    "\n",
    "# resample weekly\n",
    "ref_weekly_df = ref_dataframe.groupby('NVS_Training_Object_ID').resample('W-WED').sum().reset_index()\n",
    "ref_weekly_df.head()\n",
    "\n",
    "# finally, merge final (weekly) consumption with desired metadata\n",
    "regression_df = ref_weekly_df.merge(LO_metadata)\n",
    "\n",
    "# get dummy for intervention, i need it for the time variable for the difference in difference regression\n",
    "regression_df['after_intervention'] = 0\n",
    "regression_df.loc[regression_df['date'] > pd.to_datetime('2023-05-17'), 'after_intervention'] = 1"
   ]
  },
  {
   "cell_type": "code",
   "execution_count": 14,
   "metadata": {
    "cell_id": "c1fafaf539814814aa0e2bf2c3662251",
    "deepnote_cell_type": "code",
    "deepnote_to_be_reexecuted": false,
    "execution_millis": 101,
    "execution_start": 1686474803244,
    "source_hash": "735c897a"
   },
   "outputs": [
    {
     "data": {
      "application/vnd.deepnote.dataframe.v3+json": {
       "column_count": 10,
       "columns": [
        {
         "dtype": "object",
         "name": "NVS_Training_Object_ID"
        },
        {
         "dtype": "datetime64[ns]",
         "name": "date"
        },
        {
         "dtype": "float64",
         "name": "Registrations"
        },
        {
         "dtype": "int64",
         "name": "initial_desc_length"
        },
        {
         "dtype": "int64",
         "name": "in_test_group"
        },
        {
         "dtype": "object",
         "name": "NVS_Course_Training_Type"
        },
        {
         "dtype": "object",
         "name": "NVS_Course_Training_Provider"
        },
        {
         "dtype": "float64",
         "name": "popularity"
        },
        {
         "dtype": "category",
         "name": "popularity_Bins"
        },
        {
         "dtype": "int64",
         "name": "after_intervention"
        },
        {
         "dtype": "int64",
         "name": "_deepnote_index_column"
        }
       ],
       "row_count": 271877,
       "rows": [
        {
         "NVS_Course_Training_Provider": "NIBR",
         "NVS_Course_Training_Type": "Material",
         "NVS_Training_Object_ID": "000ed53c-8372-493f-87fa-06858911ef6d",
         "Registrations": 0,
         "_deepnote_index_column": 0,
         "after_intervention": 0,
         "date": "2022-04-06 00:00:00",
         "in_test_group": 1,
         "initial_desc_length": 140,
         "popularity": 131,
         "popularity_Bins": "50+"
        },
        {
         "NVS_Course_Training_Provider": "NIBR",
         "NVS_Course_Training_Type": "Material",
         "NVS_Training_Object_ID": "000ed53c-8372-493f-87fa-06858911ef6d",
         "Registrations": 0,
         "_deepnote_index_column": 1,
         "after_intervention": 0,
         "date": "2022-04-13 00:00:00",
         "in_test_group": 1,
         "initial_desc_length": 140,
         "popularity": 131,
         "popularity_Bins": "50+"
        },
        {
         "NVS_Course_Training_Provider": "NIBR",
         "NVS_Course_Training_Type": "Material",
         "NVS_Training_Object_ID": "000ed53c-8372-493f-87fa-06858911ef6d",
         "Registrations": 0,
         "_deepnote_index_column": 2,
         "after_intervention": 0,
         "date": "2022-04-20 00:00:00",
         "in_test_group": 1,
         "initial_desc_length": 140,
         "popularity": 131,
         "popularity_Bins": "50+"
        },
        {
         "NVS_Course_Training_Provider": "NIBR",
         "NVS_Course_Training_Type": "Material",
         "NVS_Training_Object_ID": "000ed53c-8372-493f-87fa-06858911ef6d",
         "Registrations": 0,
         "_deepnote_index_column": 3,
         "after_intervention": 0,
         "date": "2022-04-27 00:00:00",
         "in_test_group": 1,
         "initial_desc_length": 140,
         "popularity": 131,
         "popularity_Bins": "50+"
        },
        {
         "NVS_Course_Training_Provider": "NIBR",
         "NVS_Course_Training_Type": "Material",
         "NVS_Training_Object_ID": "000ed53c-8372-493f-87fa-06858911ef6d",
         "Registrations": 0,
         "_deepnote_index_column": 4,
         "after_intervention": 0,
         "date": "2022-05-04 00:00:00",
         "in_test_group": 1,
         "initial_desc_length": 140,
         "popularity": 131,
         "popularity_Bins": "50+"
        },
        {
         "NVS_Course_Training_Provider": "NIBR",
         "NVS_Course_Training_Type": "Material",
         "NVS_Training_Object_ID": "000ed53c-8372-493f-87fa-06858911ef6d",
         "Registrations": 0,
         "_deepnote_index_column": 5,
         "after_intervention": 0,
         "date": "2022-05-11 00:00:00",
         "in_test_group": 1,
         "initial_desc_length": 140,
         "popularity": 131,
         "popularity_Bins": "50+"
        },
        {
         "NVS_Course_Training_Provider": "NIBR",
         "NVS_Course_Training_Type": "Material",
         "NVS_Training_Object_ID": "000ed53c-8372-493f-87fa-06858911ef6d",
         "Registrations": 0,
         "_deepnote_index_column": 6,
         "after_intervention": 0,
         "date": "2022-05-18 00:00:00",
         "in_test_group": 1,
         "initial_desc_length": 140,
         "popularity": 131,
         "popularity_Bins": "50+"
        },
        {
         "NVS_Course_Training_Provider": "NIBR",
         "NVS_Course_Training_Type": "Material",
         "NVS_Training_Object_ID": "000ed53c-8372-493f-87fa-06858911ef6d",
         "Registrations": 0,
         "_deepnote_index_column": 7,
         "after_intervention": 0,
         "date": "2022-05-25 00:00:00",
         "in_test_group": 1,
         "initial_desc_length": 140,
         "popularity": 131,
         "popularity_Bins": "50+"
        },
        {
         "NVS_Course_Training_Provider": "NIBR",
         "NVS_Course_Training_Type": "Material",
         "NVS_Training_Object_ID": "000ed53c-8372-493f-87fa-06858911ef6d",
         "Registrations": 0,
         "_deepnote_index_column": 8,
         "after_intervention": 0,
         "date": "2022-06-01 00:00:00",
         "in_test_group": 1,
         "initial_desc_length": 140,
         "popularity": 131,
         "popularity_Bins": "50+"
        },
        {
         "NVS_Course_Training_Provider": "NIBR",
         "NVS_Course_Training_Type": "Material",
         "NVS_Training_Object_ID": "000ed53c-8372-493f-87fa-06858911ef6d",
         "Registrations": 0,
         "_deepnote_index_column": 9,
         "after_intervention": 0,
         "date": "2022-06-08 00:00:00",
         "in_test_group": 1,
         "initial_desc_length": 140,
         "popularity": 131,
         "popularity_Bins": "50+"
        }
       ]
      },
      "text/html": [
       "<div>\n",
       "<style scoped>\n",
       "    .dataframe tbody tr th:only-of-type {\n",
       "        vertical-align: middle;\n",
       "    }\n",
       "\n",
       "    .dataframe tbody tr th {\n",
       "        vertical-align: top;\n",
       "    }\n",
       "\n",
       "    .dataframe thead th {\n",
       "        text-align: right;\n",
       "    }\n",
       "</style>\n",
       "<table border=\"1\" class=\"dataframe\">\n",
       "  <thead>\n",
       "    <tr style=\"text-align: right;\">\n",
       "      <th></th>\n",
       "      <th>NVS_Training_Object_ID</th>\n",
       "      <th>date</th>\n",
       "      <th>Registrations</th>\n",
       "      <th>initial_desc_length</th>\n",
       "      <th>in_test_group</th>\n",
       "      <th>NVS_Course_Training_Type</th>\n",
       "      <th>NVS_Course_Training_Provider</th>\n",
       "      <th>popularity</th>\n",
       "      <th>popularity_Bins</th>\n",
       "      <th>after_intervention</th>\n",
       "    </tr>\n",
       "  </thead>\n",
       "  <tbody>\n",
       "    <tr>\n",
       "      <th>0</th>\n",
       "      <td>000ed53c-8372-493f-87fa-06858911ef6d</td>\n",
       "      <td>2022-04-06</td>\n",
       "      <td>0.0</td>\n",
       "      <td>140</td>\n",
       "      <td>1</td>\n",
       "      <td>Material</td>\n",
       "      <td>NIBR</td>\n",
       "      <td>131.0</td>\n",
       "      <td>50+</td>\n",
       "      <td>0</td>\n",
       "    </tr>\n",
       "    <tr>\n",
       "      <th>1</th>\n",
       "      <td>000ed53c-8372-493f-87fa-06858911ef6d</td>\n",
       "      <td>2022-04-13</td>\n",
       "      <td>0.0</td>\n",
       "      <td>140</td>\n",
       "      <td>1</td>\n",
       "      <td>Material</td>\n",
       "      <td>NIBR</td>\n",
       "      <td>131.0</td>\n",
       "      <td>50+</td>\n",
       "      <td>0</td>\n",
       "    </tr>\n",
       "    <tr>\n",
       "      <th>2</th>\n",
       "      <td>000ed53c-8372-493f-87fa-06858911ef6d</td>\n",
       "      <td>2022-04-20</td>\n",
       "      <td>0.0</td>\n",
       "      <td>140</td>\n",
       "      <td>1</td>\n",
       "      <td>Material</td>\n",
       "      <td>NIBR</td>\n",
       "      <td>131.0</td>\n",
       "      <td>50+</td>\n",
       "      <td>0</td>\n",
       "    </tr>\n",
       "    <tr>\n",
       "      <th>3</th>\n",
       "      <td>000ed53c-8372-493f-87fa-06858911ef6d</td>\n",
       "      <td>2022-04-27</td>\n",
       "      <td>0.0</td>\n",
       "      <td>140</td>\n",
       "      <td>1</td>\n",
       "      <td>Material</td>\n",
       "      <td>NIBR</td>\n",
       "      <td>131.0</td>\n",
       "      <td>50+</td>\n",
       "      <td>0</td>\n",
       "    </tr>\n",
       "    <tr>\n",
       "      <th>4</th>\n",
       "      <td>000ed53c-8372-493f-87fa-06858911ef6d</td>\n",
       "      <td>2022-05-04</td>\n",
       "      <td>0.0</td>\n",
       "      <td>140</td>\n",
       "      <td>1</td>\n",
       "      <td>Material</td>\n",
       "      <td>NIBR</td>\n",
       "      <td>131.0</td>\n",
       "      <td>50+</td>\n",
       "      <td>0</td>\n",
       "    </tr>\n",
       "    <tr>\n",
       "      <th>...</th>\n",
       "      <td>...</td>\n",
       "      <td>...</td>\n",
       "      <td>...</td>\n",
       "      <td>...</td>\n",
       "      <td>...</td>\n",
       "      <td>...</td>\n",
       "      <td>...</td>\n",
       "      <td>...</td>\n",
       "      <td>...</td>\n",
       "      <td>...</td>\n",
       "    </tr>\n",
       "    <tr>\n",
       "      <th>271872</th>\n",
       "      <td>fffdd332-cfc8-4804-95b3-a777c7d49fa0</td>\n",
       "      <td>2023-05-03</td>\n",
       "      <td>0.0</td>\n",
       "      <td>19</td>\n",
       "      <td>0</td>\n",
       "      <td>Material</td>\n",
       "      <td>NBS</td>\n",
       "      <td>0.0</td>\n",
       "      <td>0</td>\n",
       "      <td>0</td>\n",
       "    </tr>\n",
       "    <tr>\n",
       "      <th>271873</th>\n",
       "      <td>fffdd332-cfc8-4804-95b3-a777c7d49fa0</td>\n",
       "      <td>2023-05-10</td>\n",
       "      <td>0.0</td>\n",
       "      <td>19</td>\n",
       "      <td>0</td>\n",
       "      <td>Material</td>\n",
       "      <td>NBS</td>\n",
       "      <td>0.0</td>\n",
       "      <td>0</td>\n",
       "      <td>0</td>\n",
       "    </tr>\n",
       "    <tr>\n",
       "      <th>271874</th>\n",
       "      <td>fffdd332-cfc8-4804-95b3-a777c7d49fa0</td>\n",
       "      <td>2023-05-17</td>\n",
       "      <td>0.0</td>\n",
       "      <td>19</td>\n",
       "      <td>0</td>\n",
       "      <td>Material</td>\n",
       "      <td>NBS</td>\n",
       "      <td>0.0</td>\n",
       "      <td>0</td>\n",
       "      <td>0</td>\n",
       "    </tr>\n",
       "    <tr>\n",
       "      <th>271875</th>\n",
       "      <td>fffdd332-cfc8-4804-95b3-a777c7d49fa0</td>\n",
       "      <td>2023-05-24</td>\n",
       "      <td>0.0</td>\n",
       "      <td>19</td>\n",
       "      <td>0</td>\n",
       "      <td>Material</td>\n",
       "      <td>NBS</td>\n",
       "      <td>0.0</td>\n",
       "      <td>0</td>\n",
       "      <td>1</td>\n",
       "    </tr>\n",
       "    <tr>\n",
       "      <th>271876</th>\n",
       "      <td>fffdd332-cfc8-4804-95b3-a777c7d49fa0</td>\n",
       "      <td>2023-05-31</td>\n",
       "      <td>0.0</td>\n",
       "      <td>19</td>\n",
       "      <td>0</td>\n",
       "      <td>Material</td>\n",
       "      <td>NBS</td>\n",
       "      <td>0.0</td>\n",
       "      <td>0</td>\n",
       "      <td>1</td>\n",
       "    </tr>\n",
       "  </tbody>\n",
       "</table>\n",
       "<p>271877 rows × 10 columns</p>\n",
       "</div>"
      ],
      "text/plain": [
       "                      NVS_Training_Object_ID       date  Registrations  \\\n",
       "0       000ed53c-8372-493f-87fa-06858911ef6d 2022-04-06            0.0   \n",
       "1       000ed53c-8372-493f-87fa-06858911ef6d 2022-04-13            0.0   \n",
       "2       000ed53c-8372-493f-87fa-06858911ef6d 2022-04-20            0.0   \n",
       "3       000ed53c-8372-493f-87fa-06858911ef6d 2022-04-27            0.0   \n",
       "4       000ed53c-8372-493f-87fa-06858911ef6d 2022-05-04            0.0   \n",
       "...                                      ...        ...            ...   \n",
       "271872  fffdd332-cfc8-4804-95b3-a777c7d49fa0 2023-05-03            0.0   \n",
       "271873  fffdd332-cfc8-4804-95b3-a777c7d49fa0 2023-05-10            0.0   \n",
       "271874  fffdd332-cfc8-4804-95b3-a777c7d49fa0 2023-05-17            0.0   \n",
       "271875  fffdd332-cfc8-4804-95b3-a777c7d49fa0 2023-05-24            0.0   \n",
       "271876  fffdd332-cfc8-4804-95b3-a777c7d49fa0 2023-05-31            0.0   \n",
       "\n",
       "        initial_desc_length  in_test_group NVS_Course_Training_Type  \\\n",
       "0                       140              1                 Material   \n",
       "1                       140              1                 Material   \n",
       "2                       140              1                 Material   \n",
       "3                       140              1                 Material   \n",
       "4                       140              1                 Material   \n",
       "...                     ...            ...                      ...   \n",
       "271872                   19              0                 Material   \n",
       "271873                   19              0                 Material   \n",
       "271874                   19              0                 Material   \n",
       "271875                   19              0                 Material   \n",
       "271876                   19              0                 Material   \n",
       "\n",
       "       NVS_Course_Training_Provider  popularity popularity_Bins  \\\n",
       "0                              NIBR       131.0             50+   \n",
       "1                              NIBR       131.0             50+   \n",
       "2                              NIBR       131.0             50+   \n",
       "3                              NIBR       131.0             50+   \n",
       "4                              NIBR       131.0             50+   \n",
       "...                             ...         ...             ...   \n",
       "271872                          NBS         0.0               0   \n",
       "271873                          NBS         0.0               0   \n",
       "271874                          NBS         0.0               0   \n",
       "271875                          NBS         0.0               0   \n",
       "271876                          NBS         0.0               0   \n",
       "\n",
       "        after_intervention  \n",
       "0                        0  \n",
       "1                        0  \n",
       "2                        0  \n",
       "3                        0  \n",
       "4                        0  \n",
       "...                    ...  \n",
       "271872                   0  \n",
       "271873                   0  \n",
       "271874                   0  \n",
       "271875                   1  \n",
       "271876                   1  \n",
       "\n",
       "[271877 rows x 10 columns]"
      ]
     },
     "execution_count": 14,
     "metadata": {},
     "output_type": "execute_result"
    }
   ],
   "source": [
    "# final df:\n",
    "regression_df"
   ]
  },
  {
   "cell_type": "code",
   "execution_count": 15,
   "metadata": {
    "cell_id": "676695b396a84b5b801b3315d275fbcb",
    "deepnote_cell_type": "code",
    "deepnote_to_be_reexecuted": false,
    "execution_millis": 2,
    "execution_start": 1686474926916,
    "source_hash": "3967a8c8"
   },
   "outputs": [],
   "source": [
    "# Create dummy variables\n",
    "dummy_df = pd.get_dummies(regression_df['popularity_Bins'], prefix='popularity_Bins')\n",
    "\n",
    "# Concatenate the dummy variables with the original DataFrame\n",
    "new_regression_df = pd.concat([regression_df, dummy_df], axis=1)"
   ]
  },
  {
   "cell_type": "code",
   "execution_count": 16,
   "metadata": {
    "cell_id": "5644ba6fc6dc4ed9b30b241b5ecbc4a3",
    "deepnote_cell_type": "code",
    "deepnote_to_be_reexecuted": false,
    "execution_millis": 38,
    "execution_start": 1686474931668,
    "source_hash": "853bcc2c"
   },
   "outputs": [
    {
     "data": {
      "application/vnd.deepnote.dataframe.v3+json": {
       "column_count": 14,
       "columns": [
        {
         "dtype": "object",
         "name": "NVS_Training_Object_ID"
        },
        {
         "dtype": "datetime64[ns]",
         "name": "date"
        },
        {
         "dtype": "float64",
         "name": "Registrations"
        },
        {
         "dtype": "int64",
         "name": "initial_desc_length"
        },
        {
         "dtype": "int64",
         "name": "in_test_group"
        },
        {
         "dtype": "object",
         "name": "NVS_Course_Training_Type"
        },
        {
         "dtype": "object",
         "name": "NVS_Course_Training_Provider"
        },
        {
         "dtype": "float64",
         "name": "popularity"
        },
        {
         "dtype": "category",
         "name": "popularity_Bins"
        },
        {
         "dtype": "int64",
         "name": "after_intervention"
        },
        {
         "dtype": "uint8",
         "name": "popularity_Bins_0"
        },
        {
         "dtype": "uint8",
         "name": "popularity_Bins_1-10"
        },
        {
         "dtype": "uint8",
         "name": "popularity_Bins_11-50"
        },
        {
         "dtype": "uint8",
         "name": "popularity_Bins_50+"
        },
        {
         "dtype": "int64",
         "name": "_deepnote_index_column"
        }
       ],
       "row_count": 271877,
       "rows": [
        {
         "NVS_Course_Training_Provider": "NIBR",
         "NVS_Course_Training_Type": "Material",
         "NVS_Training_Object_ID": "000ed53c-8372-493f-87fa-06858911ef6d",
         "Registrations": 0,
         "_deepnote_index_column": 0,
         "after_intervention": 0,
         "date": "2022-04-06 00:00:00",
         "in_test_group": 1,
         "initial_desc_length": 140,
         "popularity": 131,
         "popularity_Bins": "50+",
         "popularity_Bins_0": 0,
         "popularity_Bins_1-10": 0,
         "popularity_Bins_11-50": 0,
         "popularity_Bins_50+": 1
        },
        {
         "NVS_Course_Training_Provider": "NIBR",
         "NVS_Course_Training_Type": "Material",
         "NVS_Training_Object_ID": "000ed53c-8372-493f-87fa-06858911ef6d",
         "Registrations": 0,
         "_deepnote_index_column": 1,
         "after_intervention": 0,
         "date": "2022-04-13 00:00:00",
         "in_test_group": 1,
         "initial_desc_length": 140,
         "popularity": 131,
         "popularity_Bins": "50+",
         "popularity_Bins_0": 0,
         "popularity_Bins_1-10": 0,
         "popularity_Bins_11-50": 0,
         "popularity_Bins_50+": 1
        },
        {
         "NVS_Course_Training_Provider": "NIBR",
         "NVS_Course_Training_Type": "Material",
         "NVS_Training_Object_ID": "000ed53c-8372-493f-87fa-06858911ef6d",
         "Registrations": 0,
         "_deepnote_index_column": 2,
         "after_intervention": 0,
         "date": "2022-04-20 00:00:00",
         "in_test_group": 1,
         "initial_desc_length": 140,
         "popularity": 131,
         "popularity_Bins": "50+",
         "popularity_Bins_0": 0,
         "popularity_Bins_1-10": 0,
         "popularity_Bins_11-50": 0,
         "popularity_Bins_50+": 1
        },
        {
         "NVS_Course_Training_Provider": "NIBR",
         "NVS_Course_Training_Type": "Material",
         "NVS_Training_Object_ID": "000ed53c-8372-493f-87fa-06858911ef6d",
         "Registrations": 0,
         "_deepnote_index_column": 3,
         "after_intervention": 0,
         "date": "2022-04-27 00:00:00",
         "in_test_group": 1,
         "initial_desc_length": 140,
         "popularity": 131,
         "popularity_Bins": "50+",
         "popularity_Bins_0": 0,
         "popularity_Bins_1-10": 0,
         "popularity_Bins_11-50": 0,
         "popularity_Bins_50+": 1
        },
        {
         "NVS_Course_Training_Provider": "NIBR",
         "NVS_Course_Training_Type": "Material",
         "NVS_Training_Object_ID": "000ed53c-8372-493f-87fa-06858911ef6d",
         "Registrations": 0,
         "_deepnote_index_column": 4,
         "after_intervention": 0,
         "date": "2022-05-04 00:00:00",
         "in_test_group": 1,
         "initial_desc_length": 140,
         "popularity": 131,
         "popularity_Bins": "50+",
         "popularity_Bins_0": 0,
         "popularity_Bins_1-10": 0,
         "popularity_Bins_11-50": 0,
         "popularity_Bins_50+": 1
        },
        {
         "NVS_Course_Training_Provider": "NIBR",
         "NVS_Course_Training_Type": "Material",
         "NVS_Training_Object_ID": "000ed53c-8372-493f-87fa-06858911ef6d",
         "Registrations": 0,
         "_deepnote_index_column": 5,
         "after_intervention": 0,
         "date": "2022-05-11 00:00:00",
         "in_test_group": 1,
         "initial_desc_length": 140,
         "popularity": 131,
         "popularity_Bins": "50+",
         "popularity_Bins_0": 0,
         "popularity_Bins_1-10": 0,
         "popularity_Bins_11-50": 0,
         "popularity_Bins_50+": 1
        },
        {
         "NVS_Course_Training_Provider": "NIBR",
         "NVS_Course_Training_Type": "Material",
         "NVS_Training_Object_ID": "000ed53c-8372-493f-87fa-06858911ef6d",
         "Registrations": 0,
         "_deepnote_index_column": 6,
         "after_intervention": 0,
         "date": "2022-05-18 00:00:00",
         "in_test_group": 1,
         "initial_desc_length": 140,
         "popularity": 131,
         "popularity_Bins": "50+",
         "popularity_Bins_0": 0,
         "popularity_Bins_1-10": 0,
         "popularity_Bins_11-50": 0,
         "popularity_Bins_50+": 1
        },
        {
         "NVS_Course_Training_Provider": "NIBR",
         "NVS_Course_Training_Type": "Material",
         "NVS_Training_Object_ID": "000ed53c-8372-493f-87fa-06858911ef6d",
         "Registrations": 0,
         "_deepnote_index_column": 7,
         "after_intervention": 0,
         "date": "2022-05-25 00:00:00",
         "in_test_group": 1,
         "initial_desc_length": 140,
         "popularity": 131,
         "popularity_Bins": "50+",
         "popularity_Bins_0": 0,
         "popularity_Bins_1-10": 0,
         "popularity_Bins_11-50": 0,
         "popularity_Bins_50+": 1
        },
        {
         "NVS_Course_Training_Provider": "NIBR",
         "NVS_Course_Training_Type": "Material",
         "NVS_Training_Object_ID": "000ed53c-8372-493f-87fa-06858911ef6d",
         "Registrations": 0,
         "_deepnote_index_column": 8,
         "after_intervention": 0,
         "date": "2022-06-01 00:00:00",
         "in_test_group": 1,
         "initial_desc_length": 140,
         "popularity": 131,
         "popularity_Bins": "50+",
         "popularity_Bins_0": 0,
         "popularity_Bins_1-10": 0,
         "popularity_Bins_11-50": 0,
         "popularity_Bins_50+": 1
        },
        {
         "NVS_Course_Training_Provider": "NIBR",
         "NVS_Course_Training_Type": "Material",
         "NVS_Training_Object_ID": "000ed53c-8372-493f-87fa-06858911ef6d",
         "Registrations": 0,
         "_deepnote_index_column": 9,
         "after_intervention": 0,
         "date": "2022-06-08 00:00:00",
         "in_test_group": 1,
         "initial_desc_length": 140,
         "popularity": 131,
         "popularity_Bins": "50+",
         "popularity_Bins_0": 0,
         "popularity_Bins_1-10": 0,
         "popularity_Bins_11-50": 0,
         "popularity_Bins_50+": 1
        }
       ]
      },
      "text/html": [
       "<div>\n",
       "<style scoped>\n",
       "    .dataframe tbody tr th:only-of-type {\n",
       "        vertical-align: middle;\n",
       "    }\n",
       "\n",
       "    .dataframe tbody tr th {\n",
       "        vertical-align: top;\n",
       "    }\n",
       "\n",
       "    .dataframe thead th {\n",
       "        text-align: right;\n",
       "    }\n",
       "</style>\n",
       "<table border=\"1\" class=\"dataframe\">\n",
       "  <thead>\n",
       "    <tr style=\"text-align: right;\">\n",
       "      <th></th>\n",
       "      <th>NVS_Training_Object_ID</th>\n",
       "      <th>date</th>\n",
       "      <th>Registrations</th>\n",
       "      <th>initial_desc_length</th>\n",
       "      <th>in_test_group</th>\n",
       "      <th>NVS_Course_Training_Type</th>\n",
       "      <th>NVS_Course_Training_Provider</th>\n",
       "      <th>popularity</th>\n",
       "      <th>popularity_Bins</th>\n",
       "      <th>after_intervention</th>\n",
       "      <th>popularity_Bins_0</th>\n",
       "      <th>popularity_Bins_1-10</th>\n",
       "      <th>popularity_Bins_11-50</th>\n",
       "      <th>popularity_Bins_50+</th>\n",
       "    </tr>\n",
       "  </thead>\n",
       "  <tbody>\n",
       "    <tr>\n",
       "      <th>0</th>\n",
       "      <td>000ed53c-8372-493f-87fa-06858911ef6d</td>\n",
       "      <td>2022-04-06</td>\n",
       "      <td>0.0</td>\n",
       "      <td>140</td>\n",
       "      <td>1</td>\n",
       "      <td>Material</td>\n",
       "      <td>NIBR</td>\n",
       "      <td>131.0</td>\n",
       "      <td>50+</td>\n",
       "      <td>0</td>\n",
       "      <td>0</td>\n",
       "      <td>0</td>\n",
       "      <td>0</td>\n",
       "      <td>1</td>\n",
       "    </tr>\n",
       "    <tr>\n",
       "      <th>1</th>\n",
       "      <td>000ed53c-8372-493f-87fa-06858911ef6d</td>\n",
       "      <td>2022-04-13</td>\n",
       "      <td>0.0</td>\n",
       "      <td>140</td>\n",
       "      <td>1</td>\n",
       "      <td>Material</td>\n",
       "      <td>NIBR</td>\n",
       "      <td>131.0</td>\n",
       "      <td>50+</td>\n",
       "      <td>0</td>\n",
       "      <td>0</td>\n",
       "      <td>0</td>\n",
       "      <td>0</td>\n",
       "      <td>1</td>\n",
       "    </tr>\n",
       "    <tr>\n",
       "      <th>2</th>\n",
       "      <td>000ed53c-8372-493f-87fa-06858911ef6d</td>\n",
       "      <td>2022-04-20</td>\n",
       "      <td>0.0</td>\n",
       "      <td>140</td>\n",
       "      <td>1</td>\n",
       "      <td>Material</td>\n",
       "      <td>NIBR</td>\n",
       "      <td>131.0</td>\n",
       "      <td>50+</td>\n",
       "      <td>0</td>\n",
       "      <td>0</td>\n",
       "      <td>0</td>\n",
       "      <td>0</td>\n",
       "      <td>1</td>\n",
       "    </tr>\n",
       "    <tr>\n",
       "      <th>3</th>\n",
       "      <td>000ed53c-8372-493f-87fa-06858911ef6d</td>\n",
       "      <td>2022-04-27</td>\n",
       "      <td>0.0</td>\n",
       "      <td>140</td>\n",
       "      <td>1</td>\n",
       "      <td>Material</td>\n",
       "      <td>NIBR</td>\n",
       "      <td>131.0</td>\n",
       "      <td>50+</td>\n",
       "      <td>0</td>\n",
       "      <td>0</td>\n",
       "      <td>0</td>\n",
       "      <td>0</td>\n",
       "      <td>1</td>\n",
       "    </tr>\n",
       "    <tr>\n",
       "      <th>4</th>\n",
       "      <td>000ed53c-8372-493f-87fa-06858911ef6d</td>\n",
       "      <td>2022-05-04</td>\n",
       "      <td>0.0</td>\n",
       "      <td>140</td>\n",
       "      <td>1</td>\n",
       "      <td>Material</td>\n",
       "      <td>NIBR</td>\n",
       "      <td>131.0</td>\n",
       "      <td>50+</td>\n",
       "      <td>0</td>\n",
       "      <td>0</td>\n",
       "      <td>0</td>\n",
       "      <td>0</td>\n",
       "      <td>1</td>\n",
       "    </tr>\n",
       "    <tr>\n",
       "      <th>...</th>\n",
       "      <td>...</td>\n",
       "      <td>...</td>\n",
       "      <td>...</td>\n",
       "      <td>...</td>\n",
       "      <td>...</td>\n",
       "      <td>...</td>\n",
       "      <td>...</td>\n",
       "      <td>...</td>\n",
       "      <td>...</td>\n",
       "      <td>...</td>\n",
       "      <td>...</td>\n",
       "      <td>...</td>\n",
       "      <td>...</td>\n",
       "      <td>...</td>\n",
       "    </tr>\n",
       "    <tr>\n",
       "      <th>271872</th>\n",
       "      <td>fffdd332-cfc8-4804-95b3-a777c7d49fa0</td>\n",
       "      <td>2023-05-03</td>\n",
       "      <td>0.0</td>\n",
       "      <td>19</td>\n",
       "      <td>0</td>\n",
       "      <td>Material</td>\n",
       "      <td>NBS</td>\n",
       "      <td>0.0</td>\n",
       "      <td>0</td>\n",
       "      <td>0</td>\n",
       "      <td>1</td>\n",
       "      <td>0</td>\n",
       "      <td>0</td>\n",
       "      <td>0</td>\n",
       "    </tr>\n",
       "    <tr>\n",
       "      <th>271873</th>\n",
       "      <td>fffdd332-cfc8-4804-95b3-a777c7d49fa0</td>\n",
       "      <td>2023-05-10</td>\n",
       "      <td>0.0</td>\n",
       "      <td>19</td>\n",
       "      <td>0</td>\n",
       "      <td>Material</td>\n",
       "      <td>NBS</td>\n",
       "      <td>0.0</td>\n",
       "      <td>0</td>\n",
       "      <td>0</td>\n",
       "      <td>1</td>\n",
       "      <td>0</td>\n",
       "      <td>0</td>\n",
       "      <td>0</td>\n",
       "    </tr>\n",
       "    <tr>\n",
       "      <th>271874</th>\n",
       "      <td>fffdd332-cfc8-4804-95b3-a777c7d49fa0</td>\n",
       "      <td>2023-05-17</td>\n",
       "      <td>0.0</td>\n",
       "      <td>19</td>\n",
       "      <td>0</td>\n",
       "      <td>Material</td>\n",
       "      <td>NBS</td>\n",
       "      <td>0.0</td>\n",
       "      <td>0</td>\n",
       "      <td>0</td>\n",
       "      <td>1</td>\n",
       "      <td>0</td>\n",
       "      <td>0</td>\n",
       "      <td>0</td>\n",
       "    </tr>\n",
       "    <tr>\n",
       "      <th>271875</th>\n",
       "      <td>fffdd332-cfc8-4804-95b3-a777c7d49fa0</td>\n",
       "      <td>2023-05-24</td>\n",
       "      <td>0.0</td>\n",
       "      <td>19</td>\n",
       "      <td>0</td>\n",
       "      <td>Material</td>\n",
       "      <td>NBS</td>\n",
       "      <td>0.0</td>\n",
       "      <td>0</td>\n",
       "      <td>1</td>\n",
       "      <td>1</td>\n",
       "      <td>0</td>\n",
       "      <td>0</td>\n",
       "      <td>0</td>\n",
       "    </tr>\n",
       "    <tr>\n",
       "      <th>271876</th>\n",
       "      <td>fffdd332-cfc8-4804-95b3-a777c7d49fa0</td>\n",
       "      <td>2023-05-31</td>\n",
       "      <td>0.0</td>\n",
       "      <td>19</td>\n",
       "      <td>0</td>\n",
       "      <td>Material</td>\n",
       "      <td>NBS</td>\n",
       "      <td>0.0</td>\n",
       "      <td>0</td>\n",
       "      <td>1</td>\n",
       "      <td>1</td>\n",
       "      <td>0</td>\n",
       "      <td>0</td>\n",
       "      <td>0</td>\n",
       "    </tr>\n",
       "  </tbody>\n",
       "</table>\n",
       "<p>271877 rows × 14 columns</p>\n",
       "</div>"
      ],
      "text/plain": [
       "                      NVS_Training_Object_ID       date  Registrations  \\\n",
       "0       000ed53c-8372-493f-87fa-06858911ef6d 2022-04-06            0.0   \n",
       "1       000ed53c-8372-493f-87fa-06858911ef6d 2022-04-13            0.0   \n",
       "2       000ed53c-8372-493f-87fa-06858911ef6d 2022-04-20            0.0   \n",
       "3       000ed53c-8372-493f-87fa-06858911ef6d 2022-04-27            0.0   \n",
       "4       000ed53c-8372-493f-87fa-06858911ef6d 2022-05-04            0.0   \n",
       "...                                      ...        ...            ...   \n",
       "271872  fffdd332-cfc8-4804-95b3-a777c7d49fa0 2023-05-03            0.0   \n",
       "271873  fffdd332-cfc8-4804-95b3-a777c7d49fa0 2023-05-10            0.0   \n",
       "271874  fffdd332-cfc8-4804-95b3-a777c7d49fa0 2023-05-17            0.0   \n",
       "271875  fffdd332-cfc8-4804-95b3-a777c7d49fa0 2023-05-24            0.0   \n",
       "271876  fffdd332-cfc8-4804-95b3-a777c7d49fa0 2023-05-31            0.0   \n",
       "\n",
       "        initial_desc_length  in_test_group NVS_Course_Training_Type  \\\n",
       "0                       140              1                 Material   \n",
       "1                       140              1                 Material   \n",
       "2                       140              1                 Material   \n",
       "3                       140              1                 Material   \n",
       "4                       140              1                 Material   \n",
       "...                     ...            ...                      ...   \n",
       "271872                   19              0                 Material   \n",
       "271873                   19              0                 Material   \n",
       "271874                   19              0                 Material   \n",
       "271875                   19              0                 Material   \n",
       "271876                   19              0                 Material   \n",
       "\n",
       "       NVS_Course_Training_Provider  popularity popularity_Bins  \\\n",
       "0                              NIBR       131.0             50+   \n",
       "1                              NIBR       131.0             50+   \n",
       "2                              NIBR       131.0             50+   \n",
       "3                              NIBR       131.0             50+   \n",
       "4                              NIBR       131.0             50+   \n",
       "...                             ...         ...             ...   \n",
       "271872                          NBS         0.0               0   \n",
       "271873                          NBS         0.0               0   \n",
       "271874                          NBS         0.0               0   \n",
       "271875                          NBS         0.0               0   \n",
       "271876                          NBS         0.0               0   \n",
       "\n",
       "        after_intervention  popularity_Bins_0  popularity_Bins_1-10  \\\n",
       "0                        0                  0                     0   \n",
       "1                        0                  0                     0   \n",
       "2                        0                  0                     0   \n",
       "3                        0                  0                     0   \n",
       "4                        0                  0                     0   \n",
       "...                    ...                ...                   ...   \n",
       "271872                   0                  1                     0   \n",
       "271873                   0                  1                     0   \n",
       "271874                   0                  1                     0   \n",
       "271875                   1                  1                     0   \n",
       "271876                   1                  1                     0   \n",
       "\n",
       "        popularity_Bins_11-50  popularity_Bins_50+  \n",
       "0                           0                    1  \n",
       "1                           0                    1  \n",
       "2                           0                    1  \n",
       "3                           0                    1  \n",
       "4                           0                    1  \n",
       "...                       ...                  ...  \n",
       "271872                      0                    0  \n",
       "271873                      0                    0  \n",
       "271874                      0                    0  \n",
       "271875                      0                    0  \n",
       "271876                      0                    0  \n",
       "\n",
       "[271877 rows x 14 columns]"
      ]
     },
     "execution_count": 16,
     "metadata": {},
     "output_type": "execute_result"
    }
   ],
   "source": [
    "new_regression_df"
   ]
  },
  {
   "cell_type": "code",
   "execution_count": 17,
   "metadata": {
    "cell_id": "b6bf0fed7c584118918fd2501768478b",
    "deepnote_cell_type": "code",
    "deepnote_to_be_reexecuted": false,
    "execution_millis": 27,
    "execution_start": 1686474937915,
    "source_hash": "4281a63e"
   },
   "outputs": [],
   "source": [
    "new_regression_df = new_regression_df.rename(columns={'popularity_Bins_1-10': 'popularity_Bins_1_10'})\n",
    "new_regression_df = new_regression_df.rename(columns={'popularity_Bins_11-50': 'popularity_Bins_11_50'})\n",
    "new_regression_df = new_regression_df.rename(columns={'popularity_Bins_50+': 'popularity_Bins_more_than_50'})"
   ]
  },
  {
   "cell_type": "code",
   "execution_count": 18,
   "metadata": {
    "cell_id": "9c2a98237ce640e68f16e9fdfbff25bf",
    "deepnote_cell_type": "code",
    "deepnote_to_be_reexecuted": false,
    "execution_millis": 56,
    "execution_start": 1686474943550,
    "source_hash": "4f1b3833"
   },
   "outputs": [],
   "source": [
    "# Create dummy variables\n",
    "dummy_df1 = pd.get_dummies(new_regression_df['NVS_Course_Training_Type'], prefix='NVS_Course_Training_Type')\n",
    "\n",
    "# Concatenate the dummy variables with the original DataFrame\n",
    "new_regression_df = pd.concat([new_regression_df, dummy_df1], axis=1)"
   ]
  },
  {
   "cell_type": "code",
   "execution_count": 19,
   "metadata": {
    "cell_id": "ed3a6cf420cd4386afbb648376f7cb60",
    "deepnote_cell_type": "code",
    "deepnote_to_be_reexecuted": false,
    "execution_millis": 2,
    "execution_start": 1686474947039,
    "source_hash": "c0ae21bb"
   },
   "outputs": [
    {
     "data": {
      "text/plain": [
       "Index(['NVS_Training_Object_ID', 'date', 'Registrations',\n",
       "       'initial_desc_length', 'in_test_group', 'NVS_Course_Training_Type',\n",
       "       'NVS_Course_Training_Provider', 'popularity', 'popularity_Bins',\n",
       "       'after_intervention', 'popularity_Bins_0', 'popularity_Bins_1_10',\n",
       "       'popularity_Bins_11_50', 'popularity_Bins_more_than_50',\n",
       "       'NVS_Course_Training_Type_Curriculum', 'NVS_Course_Training_Type_Event',\n",
       "       'NVS_Course_Training_Type_Material',\n",
       "       'NVS_Course_Training_Type_Online Class',\n",
       "       'NVS_Course_Training_Type_Session', 'NVS_Course_Training_Type_Test',\n",
       "       'NVS_Course_Training_Type_Video'],\n",
       "      dtype='object')"
      ]
     },
     "execution_count": 19,
     "metadata": {},
     "output_type": "execute_result"
    }
   ],
   "source": [
    "new_regression_df.columns"
   ]
  },
  {
   "cell_type": "code",
   "execution_count": 20,
   "metadata": {
    "cell_id": "e007cf8970a447dcbb16cb5c5642e9ec",
    "deepnote_cell_type": "code",
    "deepnote_to_be_reexecuted": false,
    "execution_millis": 2382,
    "execution_start": 1686474951832,
    "source_hash": "fddefa82"
   },
   "outputs": [],
   "source": [
    "new_regression_df.to_csv('new_regression_df.csv')"
   ]
  },
  {
   "cell_type": "markdown",
   "metadata": {
    "cell_id": "d19549d4d80e4aa598d528770deb6187",
    "deepnote_cell_type": "text-cell-p",
    "formattedRanges": [
     {
      "fromCodePoint": 0,
      "marks": {
       "bold": true
      },
      "toCodePoint": 18,
      "type": "marks"
     }
    ]
   },
   "source": [
    "Control Variables:"
   ]
  },
  {
   "cell_type": "markdown",
   "metadata": {
    "cell_id": "feaddd57-3d81-45c7-a6aa-66b2a689c495",
    "deepnote_cell_type": "text-cell-bullet",
    "formattedRanges": [
     {
      "fromCodePoint": 0,
      "marks": {
       "bold": true
      },
      "toCodePoint": 112,
      "type": "marks"
     }
    ]
   },
   "source": [
    "- \"Popularity Bins\" = Previous Consumption Categories (creating dummies categorical control variable, total registrations from April 2022 - April 2023, four categories based on the number of registrations: 0, 1-10, 11-50, 50+)"
   ]
  },
  {
   "cell_type": "markdown",
   "metadata": {
    "cell_id": "28481299-dad8-43c2-8621-4e043b768011",
    "deepnote_cell_type": "text-cell-bullet",
    "formattedRanges": [
     {
      "fromCodePoint": 0,
      "marks": {
       "bold": true
      },
      "toCodePoint": 142,
      "type": "marks"
     }
    ]
   },
   "source": [
    "- \"Initial Description length\" = Description length before intervention (numeric control variable, number of characters in NVS_Course_Description)\n"
   ]
  },
  {
   "cell_type": "markdown",
   "metadata": {
    "cell_id": "9be9633f-ebd7-4012-9882-07f6fe096c54",
    "deepnote_cell_type": "text-cell-bullet",
    "formattedRanges": [
     {
      "fromCodePoint": 0,
      "marks": {
       "bold": true
      },
      "toCodePoint": 106,
      "type": "marks"
     }
    ]
   },
   "source": [
    "- \"Training Type\" = Training type (categorical control variable, e.g., Video, Material, Online Course, etc.)"
   ]
  },
  {
   "cell_type": "code",
   "execution_count": 21,
   "metadata": {
    "cell_id": "86d1ca23e9634e759d4bb7d34cc4199f",
    "deepnote_cell_type": "code",
    "deepnote_to_be_reexecuted": false,
    "execution_millis": 1173,
    "execution_start": 1686474956452,
    "source_hash": "2e838e81"
   },
   "outputs": [],
   "source": [
    "import statsmodels.api as sm\n",
    "from tabulate import tabulate"
   ]
  },
  {
   "cell_type": "code",
   "execution_count": 22,
   "metadata": {
    "cell_id": "01e9d278237b431c8e1bb2b95c7d4a2a",
    "deepnote_cell_type": "code",
    "deepnote_to_be_reexecuted": false,
    "execution_millis": 7,
    "execution_start": 1686474958183,
    "source_hash": "e81c3a3e"
   },
   "outputs": [],
   "source": [
    "df_for_sm = new_regression_df.copy()"
   ]
  },
  {
   "cell_type": "code",
   "execution_count": 27,
   "metadata": {
    "cell_id": "9b5ae6f04e6042e1998820af851ac751",
    "deepnote_cell_type": "code",
    "deepnote_to_be_reexecuted": false,
    "execution_millis": 728,
    "execution_start": 1686475402844,
    "source_hash": "898e82c"
   },
   "outputs": [
    {
     "name": "stdout",
     "output_type": "stream",
     "text": [
      "                            OLS Regression Results                            \n",
      "==============================================================================\n",
      "Dep. Variable:          Registrations   R-squared:                       0.003\n",
      "Model:                            OLS   Adj. R-squared:                  0.003\n",
      "Method:                 Least Squares   F-statistic:                     112.2\n",
      "Date:                Sun, 11 Jun 2023   Prob (F-statistic):          2.44e-257\n",
      "Time:                        09:23:23   Log-Likelihood:            -1.1046e+06\n",
      "No. Observations:              271877   AIC:                         2.209e+06\n",
      "Df Residuals:                  271865   BIC:                         2.209e+06\n",
      "Df Model:                          11                                         \n",
      "Covariance Type:                  HC3                                         \n",
      "=====================================================================================================\n",
      "                                        coef    std err          z      P>|z|      [0.025      0.975]\n",
      "-----------------------------------------------------------------------------------------------------\n",
      "Intercept                             0.0985      0.063      1.566      0.117      -0.025       0.222\n",
      "in_test_group                        -0.1053      0.043     -2.426      0.015      -0.190      -0.020\n",
      "after_intervention                   -0.1091      0.035     -3.078      0.002      -0.179      -0.040\n",
      "interaction                           0.0789      0.044      1.802      0.072      -0.007       0.165\n",
      "initial_desc_length                  -0.0005      0.000     -2.016      0.044      -0.001   -1.32e-05\n",
      "popularity_Bins_1_10                  0.1232      0.033      3.779      0.000       0.059       0.187\n",
      "popularity_Bins_11_50                 0.4689      0.032     14.580      0.000       0.406       0.532\n",
      "popularity_Bins_more_than_50          5.6547      1.354      4.177      0.000       3.001       8.308\n",
      "NVS_Course_Training_Type_Material     0.0143      0.081      0.175      0.861      -0.145       0.174\n",
      "NVS_Course_Training_Type_Video       -0.2224      0.107     -2.071      0.038      -0.433      -0.012\n",
      "NVS_Course_Training_Type_Session     -0.0288      0.039     -0.730      0.465      -0.106       0.048\n",
      "NVS_Course_Training_Type_Test         0.0080      0.037      0.216      0.829      -0.065       0.081\n",
      "==============================================================================\n",
      "Omnibus:                  1452820.573   Durbin-Watson:                   1.997\n",
      "Prob(Omnibus):                  0.000   Jarque-Bera (JB):   78292332391137.750\n",
      "Skew:                         274.371   Prob(JB):                         0.00\n",
      "Kurtosis:                   83135.251   Cond. No.                     2.71e+03\n",
      "==============================================================================\n",
      "\n",
      "Notes:\n",
      "[1] Standard Errors are heteroscedasticity robust (HC3)\n",
      "[2] The condition number is large, 2.71e+03. This might indicate that there are\n",
      "strong multicollinearity or other numerical problems.\n"
     ]
    }
   ],
   "source": [
    "import statsmodels.api as sm\n",
    "\n",
    "\n",
    "# Combine the variables into a single DataFrame\n",
    "df_for_sm['interaction'] = df_for_sm['in_test_group'] * df_for_sm['after_intervention']\n",
    "\n",
    "# Define the regression formula\n",
    "formula = 'Registrations ~ in_test_group + after_intervention + interaction + initial_desc_length + popularity_Bins_1_10 + popularity_Bins_11_50 + popularity_Bins_more_than_50 + NVS_Course_Training_Type_Material + NVS_Course_Training_Type_Video + NVS_Course_Training_Type_Session + NVS_Course_Training_Type_Test'\n",
    "model = sm.formula.ols(formula=formula, data=df_for_sm)\n",
    "#fit with robust standart errors\n",
    "results = model.fit(cov_type='HC3') \n",
    "regression_table = results.summary()\n",
    "print(regression_table)"
   ]
  },
  {
   "cell_type": "markdown",
   "metadata": {
    "created_in_deepnote_cell": true,
    "deepnote_cell_type": "markdown"
   },
   "source": [
    "<a style='text-decoration:none;line-height:16px;display:flex;color:#5B5B62;padding:10px;justify-content:end;' href='https://deepnote.com?utm_source=created-in-deepnote-cell&projectId=09374e14-43a4-4eee-b362-608228cad85e' target=\"_blank\">\n",
    "<img alt='Created in deepnote.com' style='display:inline;max-height:16px;margin:0px;margin-right:7.5px;' src='data:image/svg+xml;base64,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' > </img>\n",
    "Created in <span style='font-weight:600;margin-left:4px;'>Deepnote</span></a>"
   ]
  }
 ],
 "metadata": {
  "deepnote": {},
  "deepnote_execution_queue": [],
  "deepnote_notebook_id": "3c3302ca28d94bc683a5a54181dba319",
  "kernelspec": {
   "display_name": "Python 3 (ipykernel)",
   "language": "python",
   "name": "python3"
  },
  "language_info": {
   "codemirror_mode": {
    "name": "ipython",
    "version": 3
   },
   "file_extension": ".py",
   "mimetype": "text/x-python",
   "name": "python",
   "nbconvert_exporter": "python",
   "pygments_lexer": "ipython3",
   "version": "3.9.12"
  }
 },
 "nbformat": 4,
 "nbformat_minor": 1
}
