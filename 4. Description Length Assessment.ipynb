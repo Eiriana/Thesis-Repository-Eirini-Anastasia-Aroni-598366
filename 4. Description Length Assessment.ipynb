{
 "cells": [
  {
   "cell_type": "code",
   "execution_count": 1,
   "metadata": {
    "cell_id": "d45da440e5cf45dcac96fa5b776ba30a",
    "deepnote_cell_type": "code",
    "deepnote_to_be_reexecuted": false,
    "execution_millis": 49,
    "execution_start": 1685615594526,
    "source_hash": "9b82ee11"
   },
   "outputs": [],
   "source": [
    "import pandas as pd"
   ]
  },
  {
   "cell_type": "code",
   "execution_count": 2,
   "metadata": {
    "cell_id": "10b80234b60e4ae783d2b9a85bea9d3b",
    "deepnote_cell_type": "code",
    "deepnote_to_be_reexecuted": false,
    "execution_millis": 1148,
    "execution_start": 1685615600356,
    "source_hash": "5ea37303"
   },
   "outputs": [],
   "source": [
    "df=pd.read_excel('LOs_for_improvement_Final.xlsx')# load files after the improvements were made"
   ]
  },
  {
   "cell_type": "code",
   "execution_count": 3,
   "metadata": {
    "cell_id": "ccc294ebe3494421adaac97136e2ce31",
    "deepnote_cell_type": "code",
    "deepnote_to_be_reexecuted": false,
    "execution_millis": 3,
    "execution_start": 1685615603299,
    "source_hash": "14f60b8f"
   },
   "outputs": [
    {
     "data": {
      "text/plain": [
       "(4462, 8)"
      ]
     },
     "execution_count": 3,
     "metadata": {},
     "output_type": "execute_result"
    }
   ],
   "source": [
    "df.shape"
   ]
  },
  {
   "cell_type": "code",
   "execution_count": 4,
   "metadata": {
    "cell_id": "462bf0238a114b4eb4117dfdb48560c5",
    "deepnote_cell_type": "code",
    "deepnote_to_be_reexecuted": false,
    "execution_millis": 22,
    "execution_start": 1685615610893,
    "source_hash": "98532c59"
   },
   "outputs": [
    {
     "data": {
      "text/plain": [
       "(4421, 8)"
      ]
     },
     "execution_count": 4,
     "metadata": {},
     "output_type": "execute_result"
    }
   ],
   "source": [
    "df = df[\n",
    "    df['NVS_Course_Description - NEW'].str.lower().str.contains('delete')!=True]\n",
    "df = df[\n",
    "    df['NVS_Course_Description - NEW'].str.lower().str.contains('deactivate')!=True]\n",
    "df = df[\n",
    "    df['NVS_Course_Description - NEW'].str.lower().str.contains('remove')!=True]\n",
    "\n",
    "df.shape"
   ]
  },
  {
   "cell_type": "code",
   "execution_count": 5,
   "metadata": {
    "cell_id": "1da143e1faae4293953cf1f96fb97440",
    "deepnote_cell_type": "code",
    "deepnote_to_be_reexecuted": false,
    "execution_millis": 6,
    "execution_start": 1685615614677,
    "source_hash": "ed135c7"
   },
   "outputs": [],
   "source": [
    "columnsdrop = ['NVS_Course_Training_Owner','Owner Mail ID', 'Unnamed: 7']\n",
    "df = df.drop(columns = columnsdrop)"
   ]
  },
  {
   "cell_type": "code",
   "execution_count": 6,
   "metadata": {
    "cell_id": "d25902789bfa43ef9026ad4388f721f7",
    "deepnote_cell_type": "code",
    "deepnote_to_be_reexecuted": false,
    "execution_millis": 4,
    "execution_start": 1685615617792,
    "source_hash": "25d43fa0"
   },
   "outputs": [
    {
     "data": {
      "text/plain": [
       "Index(['NVS_Training_Object_ID', 'NVS_Course_Training_Title',\n",
       "       'NVS_Course_Description - OLD', 'Reason for Insufficient Quality',\n",
       "       'NVS_Course_Description - NEW'],\n",
       "      dtype='object')"
      ]
     },
     "execution_count": 6,
     "metadata": {},
     "output_type": "execute_result"
    }
   ],
   "source": [
    "df.columns"
   ]
  },
  {
   "cell_type": "code",
   "execution_count": 8,
   "metadata": {
    "cell_id": "57bea5f7e0ae4f87a25a62d66100a43d",
    "deepnote_cell_type": "code",
    "deepnote_to_be_reexecuted": false,
    "execution_millis": 13,
    "execution_start": 1685534572643,
    "source_hash": "f1f2f915"
   },
   "outputs": [],
   "source": [
    "df_changed_only = df.dropna(subset=['NVS_Course_Description - NEW'])"
   ]
  },
  {
   "cell_type": "code",
   "execution_count": 9,
   "metadata": {
    "cell_id": "dc6dfb1e840846948f451ac98921e7e9",
    "deepnote_cell_type": "code",
    "deepnote_to_be_reexecuted": false,
    "execution_millis": 77,
    "execution_start": 1685534575338,
    "source_hash": "5723efe4"
   },
   "outputs": [
    {
     "data": {
      "application/vnd.deepnote.dataframe.v3+json": {
       "column_count": 5,
       "columns": [
        {
         "dtype": "object",
         "name": "NVS_Training_Object_ID",
         "stats": {
          "categories": [
           {
            "count": 1,
            "name": "ffcc632e-f97e-4499-823d-07e83f0ed2ec"
           },
           {
            "count": 1,
            "name": "fec265b8-582f-4e15-b4d0-0646ca8333c5"
           },
           {
            "count": 756,
            "name": "756 others"
           }
          ],
          "nan_count": 0,
          "unique_count": 758
         }
        },
        {
         "dtype": "object",
         "name": "NVS_Course_Training_Title",
         "stats": {
          "categories": [
           {
            "count": 24,
            "name": "M1 Lead the Way - Final Individual Challenge"
           },
           {
            "count": 17,
            "name": "R2R Academy"
           },
           {
            "count": 717,
            "name": "609 others"
           }
          ],
          "nan_count": 0,
          "unique_count": 611
         }
        },
        {
         "dtype": "object",
         "name": "NVS_Course_Description - OLD",
         "stats": {
          "categories": [
           {
            "count": 24,
            "name": "The \"Final Individual Challenge\" is the final part of the M1 Lead the Way program. Participants are automatically registered for it when they complete M1 program."
           },
           {
            "count": 17,
            "name": "R2R Academy will provide participants with trainings on specific accounting topics and processes, master data and systems, and insight into other areas of FRA Ops. Training sessions will be added periodically"
           },
           {
            "count": 717,
            "name": "582 others"
           }
          ],
          "nan_count": 0,
          "unique_count": 584
         }
        },
        {
         "dtype": "object",
         "name": "Reason for Insufficient Quality",
         "stats": {
          "categories": [
           {
            "count": 663,
            "name": "missing relevance and context"
           },
           {
            "count": 48,
            "name": "missing context"
           },
           {
            "count": 47,
            "name": "6 others"
           }
          ],
          "nan_count": 0,
          "unique_count": 8
         }
        },
        {
         "dtype": "object",
         "name": "NVS_Course_Description - NEW",
         "stats": {
          "categories": [
           {
            "count": 78,
            "name": "Role/Activitiy-based training for Sandoz UK Associates"
           },
           {
            "count": 24,
            "name": "The \"Final Individual Challenge\" is the final part of the M1 Lead the Way program. Participants are automatically registered for it when they complete M1 program. (Please note that this session is added only for reporting purposes, participants cannot search for it. It is part of M1 Lead the way program)"
           },
           {
            "count": 656,
            "name": "460 others"
           }
          ],
          "nan_count": 0,
          "unique_count": 462
         }
        },
        {
         "dtype": "int64",
         "name": "_deepnote_index_column"
        }
       ],
       "row_count": 758,
       "rows": [
        {
         "NVS_Course_Description - NEW": "Guidance_Determination of PDE otic_Nov-2016",
         "NVS_Course_Description - OLD": "Energizado para la vida se centra en la fuerza y la reserva interiores: su resiliencia natural, su enfoque y su compromiso. Sepa más acerca de cómo nuestra capacidad de autoayuda se correlaciona directamente con su capacidad para liderar y apoyar el desempeño en los demás.",
         "NVS_Course_Training_Title": "Energizado para la vida - Compromiso y bienestar",
         "NVS_Training_Object_ID": "ffcc632e-f97e-4499-823d-07e83f0ed2ec",
         "Reason for Insufficient Quality": "other",
         "_deepnote_index_column": 4
        },
        {
         "NVS_Course_Description - NEW": "The Beginner course explains the BCM fundamentals. \n \nThe aim is to provide a high level introduction to BCM.",
         "NVS_Course_Description - OLD": "Build the behaviors and skills that sit behind excellent AM capability – And will be supported by new SAM (Strategic Account Management) On-Core/Veeva CRM Module.",
         "NVS_Course_Training_Title": "IAM Stage 1 E-Learning",
         "NVS_Training_Object_ID": "fec265b8-582f-4e15-b4d0-0646ca8333c5",
         "Reason for Insufficient Quality": "missing relevance and context",
         "_deepnote_index_column": 23
        },
        {
         "NVS_Course_Description - NEW": "This Training is for TRD GCS Associates only: Understanding of fundamental elements and benefits of ONE TRD CS&OP process; describing the outcomes of the monthly 5 steps process and Identify main contributors and roles",
         "NVS_Course_Description - OLD": "Understanding of fundamental elements and benefits of ONE TRD CS&OP process; describing the outcomes of the monthly 5 steps process and Identify main contributors and roles",
         "NVS_Course_Training_Title": "ONE TRD Clinical Supply and Operations Planning Process- Basic Training",
         "NVS_Training_Object_ID": "fec0ac42-dfa1-411a-a933-ecaae5c32a41",
         "Reason for Insufficient Quality": "missing relevance and context",
         "_deepnote_index_column": 24
        },
        {
         "NVS_Course_Description - NEW": "We all understand the importance of our Data & Digital assets in TRD. But often, we don't know how to best approach it and how to deal with the complexity of our data. This cours is about being curious and go on a journey to learn how we can get even more from our data.",
         "NVS_Course_Description - OLD": "We all understand the importance of our Data & Digital assets in TRD. Now it is time to be curious and go on a journey to learn how we can get even more from our data.",
         "NVS_Course_Training_Title": "TRD Data & Digital Strategic Pillars",
         "NVS_Training_Object_ID": "fe7650aa-1523-4822-ae0d-c1fd41178f4c",
         "Reason for Insufficient Quality": "missing relevance and context",
         "_deepnote_index_column": 29
        },
        {
         "NVS_Course_Description - NEW": "Role/Activitiy-based training for Sandoz UK Associates",
         "NVS_Course_Description - OLD": "Core training for the UK Sandoz - National Sales Manager",
         "NVS_Course_Training_Title": "UK Sandoz -  National Sales Manager **OPEN CURRICULUM & CHECK DUE DATES WITHIN**",
         "NVS_Training_Object_ID": "fdf54b92-436a-409f-b33d-af02b457753c",
         "Reason for Insufficient Quality": "missing relevance and context",
         "_deepnote_index_column": 33
        },
        {
         "NVS_Course_Description - NEW": "This trainiing  explains how an impact form for a HSE incident can be added to an existing HSE report in HSENet. This training is aimed at HSENet users who report HSE events.",
         "NVS_Course_Description - OLD": "Training on how to add an impact form to an existing incident report.",
         "NVS_Course_Training_Title": "How to add an impact to a HSE event (French - 6 mins)",
         "NVS_Training_Object_ID": "fd80a503-0d64-45e5-8657-8a1e2c76447b",
         "Reason for Insufficient Quality": "missing relevance and context",
         "_deepnote_index_column": 40
        },
        {
         "NVS_Course_Description - NEW": "Target audience is at minimum ESO Sandoz defined functions (supply chain, Life cycle manager). The course aims to describe the process and activities to manage the demand for products whereby supply is managed by ESO Sandoz API SRTs. Demand management is the set of activities that recognize, analyzes, influences and consolidates all demand signals into a complete demand plan for the ESO SZ API. ",
         "NVS_Course_Description - OLD": "NOSSCE ESO SZ API Demand Planning",
         "NVS_Course_Training_Title": "NOSSCE ESO SZ API Demand Planning",
         "NVS_Training_Object_ID": "fd4d602b-38a6-493d-982b-df53904a5581",
         "Reason for Insufficient Quality": "missing relevance and context",
         "_deepnote_index_column": 43
        },
        {
         "NVS_Course_Description - NEW": "Track and Trace Training content for Master Data",
         "NVS_Course_Description - OLD": "TR_TM_660\nATTP Material Master Data",
         "NVS_Course_Training_Title": "TR_TM_660 ATTP Material master data",
         "NVS_Training_Object_ID": "fd25fc84-45fd-4054-8dab-b7e7e3431736",
         "Reason for Insufficient Quality": "missing relevance and context",
         "_deepnote_index_column": 45
        },
        {
         "NVS_Course_Description - NEW": "This training introduces you to CDASH standards, how to use CDASH IG, explains domain classifications, explains the difference between CDASH and SDTM, how to use NCI Controlled Terminology and finally explains Novartis interpretation",
         "NVS_Course_Description - OLD": "This training introduces you to CDASH standards, how to use CDASH IG, explains domain classifications, explains the difference between CDASH and SDTM, how to use NCI Controlled Terminology and finally explains Novartis interpretation",
         "NVS_Course_Training_Title": "DO Trainings_CDASH",
         "NVS_Training_Object_ID": "fce6e327-8181-44b0-a7a5-6fbdd8478d32",
         "Reason for Insufficient Quality": "missing relevance and context",
         "_deepnote_index_column": 49
        },
        {
         "NVS_Course_Description - NEW": "Role/Activitiy-based training for Sandoz UK Associates",
         "NVS_Course_Description - OLD": "Core training for the UK Sandoz - Business Manager",
         "NVS_Course_Training_Title": "UK Sandoz - Business Manager",
         "NVS_Training_Object_ID": "fcb77efe-5e27-4214-8385-762b31a2147b",
         "Reason for Insufficient Quality": "missing relevance and context",
         "_deepnote_index_column": 52
        }
       ]
      },
      "text/html": [
       "<div>\n",
       "<style scoped>\n",
       "    .dataframe tbody tr th:only-of-type {\n",
       "        vertical-align: middle;\n",
       "    }\n",
       "\n",
       "    .dataframe tbody tr th {\n",
       "        vertical-align: top;\n",
       "    }\n",
       "\n",
       "    .dataframe thead th {\n",
       "        text-align: right;\n",
       "    }\n",
       "</style>\n",
       "<table border=\"1\" class=\"dataframe\">\n",
       "  <thead>\n",
       "    <tr style=\"text-align: right;\">\n",
       "      <th></th>\n",
       "      <th>NVS_Training_Object_ID</th>\n",
       "      <th>NVS_Course_Training_Title</th>\n",
       "      <th>NVS_Course_Description - OLD</th>\n",
       "      <th>Reason for Insufficient Quality</th>\n",
       "      <th>NVS_Course_Description - NEW</th>\n",
       "    </tr>\n",
       "  </thead>\n",
       "  <tbody>\n",
       "    <tr>\n",
       "      <th>4</th>\n",
       "      <td>ffcc632e-f97e-4499-823d-07e83f0ed2ec</td>\n",
       "      <td>Energizado para la vida - Compromiso y bienestar</td>\n",
       "      <td>Energizado para la vida se centra en la fuerza...</td>\n",
       "      <td>other</td>\n",
       "      <td>Guidance_Determination of PDE otic_Nov-2016</td>\n",
       "    </tr>\n",
       "    <tr>\n",
       "      <th>23</th>\n",
       "      <td>fec265b8-582f-4e15-b4d0-0646ca8333c5</td>\n",
       "      <td>IAM Stage 1 E-Learning</td>\n",
       "      <td>Build the behaviors and skills that sit behind...</td>\n",
       "      <td>missing relevance and context</td>\n",
       "      <td>The Beginner course explains the BCM fundament...</td>\n",
       "    </tr>\n",
       "    <tr>\n",
       "      <th>24</th>\n",
       "      <td>fec0ac42-dfa1-411a-a933-ecaae5c32a41</td>\n",
       "      <td>ONE TRD Clinical Supply and Operations Plannin...</td>\n",
       "      <td>Understanding of fundamental elements and bene...</td>\n",
       "      <td>missing relevance and context</td>\n",
       "      <td>This Training is for TRD GCS Associates only: ...</td>\n",
       "    </tr>\n",
       "    <tr>\n",
       "      <th>29</th>\n",
       "      <td>fe7650aa-1523-4822-ae0d-c1fd41178f4c</td>\n",
       "      <td>TRD Data &amp; Digital Strategic Pillars</td>\n",
       "      <td>We all understand the importance of our Data &amp;...</td>\n",
       "      <td>missing relevance and context</td>\n",
       "      <td>We all understand the importance of our Data &amp;...</td>\n",
       "    </tr>\n",
       "    <tr>\n",
       "      <th>33</th>\n",
       "      <td>fdf54b92-436a-409f-b33d-af02b457753c</td>\n",
       "      <td>UK Sandoz -  National Sales Manager **OPEN CUR...</td>\n",
       "      <td>Core training for the UK Sandoz - National Sal...</td>\n",
       "      <td>missing relevance and context</td>\n",
       "      <td>Role/Activitiy-based training for Sandoz UK As...</td>\n",
       "    </tr>\n",
       "    <tr>\n",
       "      <th>...</th>\n",
       "      <td>...</td>\n",
       "      <td>...</td>\n",
       "      <td>...</td>\n",
       "      <td>...</td>\n",
       "      <td>...</td>\n",
       "    </tr>\n",
       "    <tr>\n",
       "      <th>4435</th>\n",
       "      <td>0192c5f6-4a65-48ae-8a2d-2505af135c4b</td>\n",
       "      <td>Year-End Compensation Review Training 2020</td>\n",
       "      <td>Year-End Compensation Review Training 2020.</td>\n",
       "      <td>missing relevance and context</td>\n",
       "      <td>Year End Review Compensation Traning for Manag...</td>\n",
       "    </tr>\n",
       "    <tr>\n",
       "      <th>4437</th>\n",
       "      <td>0172f68d-8252-4835-9c93-f6ecf0d0bec5</td>\n",
       "      <td>Newborn Screening for Spinal Muscular Atrophy ...</td>\n",
       "      <td>Describe the importance of newborn screening a...</td>\n",
       "      <td>missing relevance and context</td>\n",
       "      <td>This course from SMA (Spinal Muscular Atrophy)...</td>\n",
       "    </tr>\n",
       "    <tr>\n",
       "      <th>4450</th>\n",
       "      <td>004bbf1b-a346-4f46-8f33-fc34bd86d720</td>\n",
       "      <td>SOP-7019687 - Creating, performing and archivi...</td>\n",
       "      <td>Additional Curriculum for GCS role (GDDTRDGCS_...</td>\n",
       "      <td>missing relevance and context</td>\n",
       "      <td>This Training is for TRD GCS Associates only: ...</td>\n",
       "    </tr>\n",
       "    <tr>\n",
       "      <th>4456</th>\n",
       "      <td>0039e9a0-aea2-4993-97ec-176dfc5a4ef9</td>\n",
       "      <td>SSM RA SELECT SMS User - Tips and Tricks</td>\n",
       "      <td>In this course you will learn some tips and tr...</td>\n",
       "      <td>missing relevance and context</td>\n",
       "      <td>This training is a technical training which de...</td>\n",
       "    </tr>\n",
       "    <tr>\n",
       "      <th>4461</th>\n",
       "      <td>000ed53c-8372-493f-87fa-06858911ef6d</td>\n",
       "      <td>Guide: Linux @ NIBR [NIBRNX]</td>\n",
       "      <td>Whether you are new to Linux or just new to us...</td>\n",
       "      <td>missing relevance and context</td>\n",
       "      <td>\\nThis webpage helps you get set up and workin...</td>\n",
       "    </tr>\n",
       "  </tbody>\n",
       "</table>\n",
       "<p>758 rows × 5 columns</p>\n",
       "</div>"
      ],
      "text/plain": [
       "                    NVS_Training_Object_ID  \\\n",
       "4     ffcc632e-f97e-4499-823d-07e83f0ed2ec   \n",
       "23    fec265b8-582f-4e15-b4d0-0646ca8333c5   \n",
       "24    fec0ac42-dfa1-411a-a933-ecaae5c32a41   \n",
       "29    fe7650aa-1523-4822-ae0d-c1fd41178f4c   \n",
       "33    fdf54b92-436a-409f-b33d-af02b457753c   \n",
       "...                                    ...   \n",
       "4435  0192c5f6-4a65-48ae-8a2d-2505af135c4b   \n",
       "4437  0172f68d-8252-4835-9c93-f6ecf0d0bec5   \n",
       "4450  004bbf1b-a346-4f46-8f33-fc34bd86d720   \n",
       "4456  0039e9a0-aea2-4993-97ec-176dfc5a4ef9   \n",
       "4461  000ed53c-8372-493f-87fa-06858911ef6d   \n",
       "\n",
       "                              NVS_Course_Training_Title  \\\n",
       "4      Energizado para la vida - Compromiso y bienestar   \n",
       "23                               IAM Stage 1 E-Learning   \n",
       "24    ONE TRD Clinical Supply and Operations Plannin...   \n",
       "29                 TRD Data & Digital Strategic Pillars   \n",
       "33    UK Sandoz -  National Sales Manager **OPEN CUR...   \n",
       "...                                                 ...   \n",
       "4435         Year-End Compensation Review Training 2020   \n",
       "4437  Newborn Screening for Spinal Muscular Atrophy ...   \n",
       "4450  SOP-7019687 - Creating, performing and archivi...   \n",
       "4456           SSM RA SELECT SMS User - Tips and Tricks   \n",
       "4461                       Guide: Linux @ NIBR [NIBRNX]   \n",
       "\n",
       "                           NVS_Course_Description - OLD  \\\n",
       "4     Energizado para la vida se centra en la fuerza...   \n",
       "23    Build the behaviors and skills that sit behind...   \n",
       "24    Understanding of fundamental elements and bene...   \n",
       "29    We all understand the importance of our Data &...   \n",
       "33    Core training for the UK Sandoz - National Sal...   \n",
       "...                                                 ...   \n",
       "4435        Year-End Compensation Review Training 2020.   \n",
       "4437  Describe the importance of newborn screening a...   \n",
       "4450  Additional Curriculum for GCS role (GDDTRDGCS_...   \n",
       "4456  In this course you will learn some tips and tr...   \n",
       "4461  Whether you are new to Linux or just new to us...   \n",
       "\n",
       "     Reason for Insufficient Quality  \\\n",
       "4                              other   \n",
       "23     missing relevance and context   \n",
       "24     missing relevance and context   \n",
       "29     missing relevance and context   \n",
       "33     missing relevance and context   \n",
       "...                              ...   \n",
       "4435   missing relevance and context   \n",
       "4437   missing relevance and context   \n",
       "4450   missing relevance and context   \n",
       "4456   missing relevance and context   \n",
       "4461   missing relevance and context   \n",
       "\n",
       "                           NVS_Course_Description - NEW  \n",
       "4           Guidance_Determination of PDE otic_Nov-2016  \n",
       "23    The Beginner course explains the BCM fundament...  \n",
       "24    This Training is for TRD GCS Associates only: ...  \n",
       "29    We all understand the importance of our Data &...  \n",
       "33    Role/Activitiy-based training for Sandoz UK As...  \n",
       "...                                                 ...  \n",
       "4435  Year End Review Compensation Traning for Manag...  \n",
       "4437  This course from SMA (Spinal Muscular Atrophy)...  \n",
       "4450  This Training is for TRD GCS Associates only: ...  \n",
       "4456  This training is a technical training which de...  \n",
       "4461  \\nThis webpage helps you get set up and workin...  \n",
       "\n",
       "[758 rows x 5 columns]"
      ]
     },
     "execution_count": 9,
     "metadata": {},
     "output_type": "execute_result"
    }
   ],
   "source": [
    "df_changed_only "
   ]
  },
  {
   "cell_type": "code",
   "execution_count": 10,
   "metadata": {
    "cell_id": "14e934332e124c95ab34250412401b3e",
    "deepnote_cell_type": "code",
    "deepnote_to_be_reexecuted": false,
    "execution_millis": 1,
    "execution_start": 1685534581676,
    "source_hash": "855dc9af"
   },
   "outputs": [
    {
     "name": "stderr",
     "output_type": "stream",
     "text": [
      "/tmp/ipykernel_92/874391767.py:1: SettingWithCopyWarning: \n",
      "A value is trying to be set on a copy of a slice from a DataFrame.\n",
      "Try using .loc[row_indexer,col_indexer] = value instead\n",
      "\n",
      "See the caveats in the documentation: https://pandas.pydata.org/pandas-docs/stable/user_guide/indexing.html#returning-a-view-versus-a-copy\n",
      "  df_changed_only ['NVS_Course_Description_new_length'] = df_changed_only ['NVS_Course_Description - NEW'].apply(lambda x: len(str(x)))\n",
      "/tmp/ipykernel_92/874391767.py:2: SettingWithCopyWarning: \n",
      "A value is trying to be set on a copy of a slice from a DataFrame.\n",
      "Try using .loc[row_indexer,col_indexer] = value instead\n",
      "\n",
      "See the caveats in the documentation: https://pandas.pydata.org/pandas-docs/stable/user_guide/indexing.html#returning-a-view-versus-a-copy\n",
      "  df_changed_only ['NVS_Course_Description_old_length'] = df_changed_only ['NVS_Course_Description - OLD'].apply(lambda x: len(str(x)))\n"
     ]
    }
   ],
   "source": [
    "df_changed_only ['NVS_Course_Description_new_length'] = df_changed_only ['NVS_Course_Description - NEW'].apply(lambda x: len(str(x)))\n",
    "df_changed_only ['NVS_Course_Description_old_length'] = df_changed_only ['NVS_Course_Description - OLD'].apply(lambda x: len(str(x)))"
   ]
  },
  {
   "cell_type": "code",
   "execution_count": 12,
   "metadata": {
    "cell_id": "eecf380e711745dfb4ae23ca6ed3b55d",
    "deepnote_cell_type": "code",
    "deepnote_to_be_reexecuted": false,
    "execution_millis": 3,
    "execution_start": 1685534587386,
    "source_hash": "167a025f"
   },
   "outputs": [
    {
     "name": "stdout",
     "output_type": "stream",
     "text": [
      "108.311345646438\n",
      "75.5\n"
     ]
    }
   ],
   "source": [
    "import numpy as np\n",
    "# Calculate the mean and median of the description length for objects in the treatment group before the improvements\n",
    "column_to_calculate = 'NVS_Course_Description_old_length'\n",
    "mean = np.mean(df_changed_only[column_to_calculate])\n",
    "median = np.median(df_changed_only[column_to_calculate])\n",
    "print(mean)\n",
    "print(median)"
   ]
  },
  {
   "cell_type": "code",
   "execution_count": 11,
   "metadata": {
    "cell_id": "0d4b275d0ce7444f863b1af715a8f163",
    "deepnote_cell_type": "code",
    "deepnote_to_be_reexecuted": false,
    "execution_millis": 104,
    "execution_start": 1685534584125,
    "source_hash": "7465b991"
   },
   "outputs": [
    {
     "name": "stdout",
     "output_type": "stream",
     "text": [
      "174.61873350923483\n",
      "118.0\n"
     ]
    }
   ],
   "source": [
    "import numpy as np\n",
    "# Calculate the mean and median of the description length for objects in the treatment group after the improvements\n",
    "column_to_calculate = 'NVS_Course_Description_new_length'\n",
    "mean = np.mean(df_changed_only[column_to_calculate])\n",
    "median = np.median(df_changed_only[column_to_calculate])\n",
    "print(mean)\n",
    "print(median)"
   ]
  },
  {
   "cell_type": "code",
   "execution_count": 13,
   "metadata": {
    "cell_id": "7cb3740d5e204847ad0200cd9dc2fbcd",
    "deepnote_cell_type": "code",
    "deepnote_to_be_reexecuted": false,
    "execution_millis": 1932,
    "execution_start": 1685534589412,
    "source_hash": "ddd9e4c8"
   },
   "outputs": [
    {
     "data": {
      "image/png": "[encoded data removed]",
      "text/plain": [
       "<Figure size 640x480 with 1 Axes>"
      ]
     },
     "metadata": {
      "image/png": {
       "height": 455,
       "width": 571
      }
     },
     "output_type": "display_data"
    }
   ],
   "source": [
    "import seaborn as sns\n",
    "import matplotlib.pyplot as plt\n",
    "# Plot distribution of values of NVS_Course_Description_length for objects in treatment group before intervention\n",
    "sns.histplot(data=df_changed_only, x='NVS_Course_Description_old_length', kde=True)\n",
    "plt.axvline(df_changed_only['NVS_Course_Description_old_length'].mean(), color='r', linestyle='--', label='Mean')\n",
    "plt.axvline(df_changed_only['NVS_Course_Description_old_length'].median(), color='g', linestyle='-', label='Median')\n",
    "plt.title('Distribution of the length of Descriptions')\n",
    "plt.xlabel('NVS_Course_Description_old_length Values')\n",
    "plt.ylabel('Count')\n",
    "plt.legend()\n",
    "plt.show()"
   ]
  },
  {
   "cell_type": "code",
   "execution_count": 16,
   "metadata": {
    "cell_id": "a23e1cbf40e041958ddf8b8a7eb3e8ed",
    "deepnote_cell_type": "code",
    "deepnote_to_be_reexecuted": false,
    "execution_millis": 422,
    "execution_start": 1685534660564,
    "source_hash": "3974cb27"
   },
   "outputs": [
    {
     "data": {
      "image/png": "[encoded data removed]",
      "text/plain": [
       "<Figure size 640x480 with 1 Axes>"
      ]
     },
     "metadata": {
      "image/png": {
       "height": 455,
       "width": 578
      }
     },
     "output_type": "display_data"
    }
   ],
   "source": [
    "import matplotlib.pyplot as plt\n",
    "import numpy as np\n",
    "\n",
    "data1 = df_changed_only.NVS_Course_Description_old_length\n",
    "data2 = df_changed_only.NVS_Course_Description_new_length\n",
    "\n",
    "\n",
    "# Plotting the histogram, comparison of distributions before and after intervention\n",
    "plt.hist(data1, bins=30, alpha=0.5, label='Distribution before intervention')\n",
    "plt.hist(data2, bins=30, alpha=0.5, label='Distribution after intervention')\n",
    "\n",
    "# Adding labels and a legend\n",
    "plt.xlabel('Value')\n",
    "plt.ylabel('Frequency')\n",
    "plt.title('Distribution Comparison')\n",
    "plt.legend()\n",
    "\n",
    "# Displaying the plot\n",
    "plt.show()"
   ]
  },
  {
   "cell_type": "markdown",
   "metadata": {
    "created_in_deepnote_cell": true,
    "deepnote_cell_type": "markdown"
   },
   "source": [
    "<a style='text-decoration:none;line-height:16px;display:flex;color:#5B5B62;padding:10px;justify-content:end;' href='https://deepnote.com?utm_source=created-in-deepnote-cell&projectId=09374e14-43a4-4eee-b362-608228cad85e' target=\"_blank\">\n",
    "<img alt='Created in deepnote.com' style='display:inline;max-height:16px;margin:0px;margin-right:7.5px;' src='data:image/svg+xml;base64,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' > </img>\n",
    "Created in <span style='font-weight:600;margin-left:4px;'>Deepnote</span></a>"
   ]
  }
 ],
 "metadata": {
  "deepnote": {},
  "deepnote_execution_queue": [],
  "deepnote_notebook_id": "65950d4e6cbd4ccbb91a8748644b5e99",
  "deepnote_persisted_session": {
   "createdAt": "2023-06-01T11:15:23.648Z"
  },
  "kernelspec": {
   "display_name": "Python 3 (ipykernel)",
   "language": "python",
   "name": "python3"
  },
  "language_info": {
   "codemirror_mode": {
    "name": "ipython",
    "version": 3
   },
   "file_extension": ".py",
   "mimetype": "text/x-python",
   "name": "python",
   "nbconvert_exporter": "python",
   "pygments_lexer": "ipython3",
   "version": "3.9.12"
  }
 },
 "nbformat": 4,
 "nbformat_minor": 1
}
